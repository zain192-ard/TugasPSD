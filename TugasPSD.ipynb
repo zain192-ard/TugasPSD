{
  "nbformat": 4,
  "nbformat_minor": 0,
  "metadata": {
    "colab": {
      "provenance": [],
      "authorship_tag": "ABX9TyORF2uDqwv6+DcJkoFQi79x",
      "include_colab_link": true
    },
    "kernelspec": {
      "name": "python3",
      "display_name": "Python 3"
    },
    "language_info": {
      "name": "python"
    }
  },
  "cells": [
    {
      "cell_type": "markdown",
      "metadata": {
        "id": "view-in-github",
        "colab_type": "text"
      },
      "source": [
        "<a href=\"https://colab.research.google.com/github/zain192-ard/TugasPSD/blob/main/TugasPSD.ipynb\" target=\"_parent\"><img src=\"https://colab.research.google.com/assets/colab-badge.svg\" alt=\"Open In Colab\"/></a>"
      ]
    },
    {
      "cell_type": "code",
      "execution_count": null,
      "metadata": {
        "colab": {
          "base_uri": "https://localhost:8080/"
        },
        "id": "RLvZx7i7bFyO",
        "outputId": "e007e5d3-51bc-4f25-9e8e-3bd79652b492"
      },
      "outputs": [
        {
          "output_type": "stream",
          "name": "stdout",
          "text": [
            "   ID      Nama Kategori     Tanggal  Jumlah  Harga\n",
            "0   1  Produk 1        A  2024-01-01      10  25.00\n",
            "1   2  Produk 2        B  2024-01-02       5  15.50\n",
            "2   3  Produk 3        A  2024-01-03      20  30.00\n",
            "3   4  Produk 4        C  2024-01-04       8  45.75\n",
            "4   5  Produk 5        B  2024-01-05      12  22.10\n"
          ]
        }
      ],
      "source": [
        "# 1.Load data dari CSV\n",
        "import pandas as pd\n",
        "from sklearn.preprocessing import LabelEncoder\n",
        "from scipy import stats\n",
        "\n",
        "# Mengimpor file CSV yang telah diupload\n",
        "df = pd.read_csv('produk.csv')\n",
        "\n",
        "# Menampilkan beberapa baris pertama dari DataFrame\n",
        "print(df.head())\n"
      ]
    },
    {
      "cell_type": "code",
      "source": [
        "# 2. Data kategorikal diganti ke numerik dengan menggunakan one hot encoding\n",
        "\n",
        "# Pilih kolom kategorikal\n",
        "data = df['Kategori']\n",
        "\n",
        "# Lakukan One Hot Encoding\n",
        "one_hot_encoded_data = pd.get_dummies(data)\n",
        "\n",
        "# Tampilkan DataFrame dengan kolom yang telah diencode\n",
        "print(one_hot_encoded_data)\n"
      ],
      "metadata": {
        "colab": {
          "base_uri": "https://localhost:8080/"
        },
        "id": "Msz8OUFBbXDW",
        "outputId": "76cad0c0-6c65-4f15-aced-b4916aad6388"
      },
      "execution_count": 12,
      "outputs": [
        {
          "output_type": "stream",
          "name": "stdout",
          "text": [
            "       A      B      C\n",
            "0   True  False  False\n",
            "1  False   True  False\n",
            "2   True  False  False\n",
            "3  False  False   True\n",
            "4  False   True  False\n"
          ]
        }
      ]
    },
    {
      "cell_type": "code",
      "source": [
        "# 3. Menghitung ukuran pemusatan data (mean, median, mode) untuk salah satu kolom numerik, misal 'Jumlah'\n",
        "mean_jumlah = df['Jumlah'].mean()\n",
        "median_jumlah = df['Jumlah'].median()\n",
        "mode_jumlah = stats.mode(df['Jumlah'], keepdims=True)[0][0]  # Mengambil mode dengan cara yang benar\n",
        "\n",
        "print(f\"Mean (Jumlah): {mean_jumlah}\")\n",
        "print(f\"Median (Jumlah): {median_jumlah}\")\n",
        "print(f\"Mode (Jumlah): {mode_jumlah}\")"
      ],
      "metadata": {
        "colab": {
          "base_uri": "https://localhost:8080/"
        },
        "id": "U-9QtIIrdOs5",
        "outputId": "63f385ce-e0ec-4f29-a7e0-dc57036ee5c4"
      },
      "execution_count": 10,
      "outputs": [
        {
          "output_type": "stream",
          "name": "stdout",
          "text": [
            "Mean (Jumlah): 11.0\n",
            "Median (Jumlah): 10.0\n",
            "Mode (Jumlah): 5\n"
          ]
        }
      ]
    },
    {
      "cell_type": "code",
      "source": [
        "# 4. Menghitung ukuran penyebaran data (range, variance, standard deviation) untuk kolom 'Jumlah'\n",
        "range_jumlah = df['Jumlah'].max() - df['Jumlah'].min()\n",
        "variance_jumlah = df['Jumlah'].var()\n",
        "std_dev_jumlah = df['Jumlah'].std()\n",
        "\n",
        "print(f\"Range (Jumlah): {range_jumlah}\")\n",
        "print(f\"Variance (Jumlah): {variance_jumlah}\")\n",
        "print(f\"Standard Deviation (Jumlah): {std_dev_jumlah}\")"
      ],
      "metadata": {
        "colab": {
          "base_uri": "https://localhost:8080/"
        },
        "id": "2nde6_vgdVYY",
        "outputId": "644f34d0-b326-4cef-d068-26ed1d42585f"
      },
      "execution_count": 11,
      "outputs": [
        {
          "output_type": "stream",
          "name": "stdout",
          "text": [
            "Range (Jumlah): 15\n",
            "Variance (Jumlah): 32.0\n",
            "Standard Deviation (Jumlah): 5.656854249492381\n"
          ]
        }
      ]
    }
  ]
}